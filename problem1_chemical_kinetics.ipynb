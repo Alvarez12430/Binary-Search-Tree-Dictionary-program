{
  "cells": [
    {
      "cell_type": "markdown",
      "metadata": {
        "id": "h9ff5ooIoneQ"
      },
      "source": [
        "[![Open In Colab](https://colab.research.google.com/assets/colab-badge.svg)](https://colab.research.google.com/github/WCC-Engineering/pa1-introduction-to-python-numpy-and-data-visualization-Alvarez12430/blob/main/problem1_chemical_kinetics.ipynb)"
      ]
    },
    {
      "cell_type": "markdown",
      "metadata": {
        "id": "CAHEWydJoneT"
      },
      "source": [
        "**Important Note:** If you encounter a \"File not found\" error when using the Colab button, your instructor can fix this by running the \"Fix Colab Links in Student Repository\" workflow."
      ]
    },
    {
      "cell_type": "markdown",
      "metadata": {
        "id": "zTR6nOvdoneU"
      },
      "source": [
        "# Problem 1: Chemical Reaction Kinetics Analysis\n",
        "\n",
        "## Description\n",
        "You are a chemical engineer analyzing reaction kinetics for a chemical process. Use Python's mathematical capabilities to calculate reaction rates, activation energies, and concentration changes.\n",
        "\n",
        "## Tasks\n",
        "1. Calculate the reaction rate constant (k) using the Arrhenius equation: k = A * e^(-Ea/(R*T)), where:\n",
        "   - A = 2.8 × 10^11 s^-1 (frequency factor)\n",
        "   - Ea = 88000 J/mol (activation energy)\n",
        "   - R = 8.314 J/(mol·K) (gas constant)\n",
        "   - T = 320 K (temperature)\n",
        "2. Calculate how the rate constant changes if temperature increases to 350 K and 380 K\n",
        "3. Calculate the half-life of a first-order reaction: t1/2 = ln(2)/k\n",
        "4. For an initial reactant concentration of [A]0 = 0.5 mol/L, calculate the concentration after 30 seconds using: [A]t = [A]0 * e^(-k*t)\n",
        "5. Calculate the time needed for the concentration to reach 0.1 mol/L using: t = -ln([A]t/[A]0)/k\n",
        "6. Create string variables with appropriate units for each result and print formatted output statements for:\n",
        "   - Rate constant at each temperature (as \"k = X s^-1 at Y K\")\n",
        "   - Half-life (as \"Half-life = X seconds\")\n",
        "   - Concentration after 30 seconds (as \"Concentration after 30s = X mol/L\")\n",
        "   - Time to reach 0.1 mol/L (as \"Time to reach 0.1 mol/L = X seconds\")"
      ]
    },
    {
      "cell_type": "code",
      "execution_count": 1,
      "metadata": {
        "id": "62jsJM3OoneV"
      },
      "outputs": [],
      "source": [
        "import math\n",
        "\n",
        "# Given constants\n",
        "A = 2.8e11  # frequency factor (s^-1)\n",
        "Ea = 88000  # activation energy (J/mol)\n",
        "R = 8.314   # gas constant (J/(mol·K))\n",
        "initial_temp = 320  # initial temperature (K)\n",
        "temp_increase1 = 350  # first increased temperature (K)\n",
        "temp_increase2 = 380  # second increased temperature (K)\n",
        "initial_concentration = 0.5  # initial concentration (mol/L)\n",
        "time_elapsed = 30  # time elapsed (s)\n",
        "target_concentration = 0.1  # target concentration (mol/L)"
      ]
    },
    {
      "cell_type": "markdown",
      "metadata": {
        "id": "whoyzHhtoneW"
      },
      "source": [
        "## Task 1: Calculate the reaction rate constant at the initial temperature\n",
        "\n",
        "Calculate the initial rate constant and store it in a variable named `k_initial`."
      ]
    },
    {
      "cell_type": "code",
      "execution_count": 11,
      "metadata": {
        "colab": {
          "base_uri": "https://localhost:8080/"
        },
        "id": "7WaTWpy6oneW",
        "outputId": "e56c0d2a-7375-482a-ce4e-643a16797696"
      },
      "outputs": [
        {
          "output_type": "stream",
          "name": "stdout",
          "text": [
            "Rate constant 0.0012081287643814767\n"
          ]
        }
      ],
      "source": [
        "k_initial = A * math.e**(-Ea/(R*initial_temp))\n",
        "print(\"Rate constant\",k_initial)\n"
      ]
    },
    {
      "cell_type": "markdown",
      "metadata": {
        "id": "_R294b94oneX"
      },
      "source": [
        "## Task 2: Calculate rate constants at increased temperatures\n",
        "\n",
        "Calculate the rate constants at the increased temperatures and store them in variables named `k_increase1` and `k_increase2`."
      ]
    },
    {
      "cell_type": "code",
      "execution_count": 13,
      "metadata": {
        "colab": {
          "base_uri": "https://localhost:8080/"
        },
        "id": "zXYoLLpXoneX",
        "outputId": "41a44270-fd9d-4ea1-b197-5fbb1a8cf131"
      },
      "outputs": [
        {
          "output_type": "stream",
          "name": "stdout",
          "text": [
            "Rate constant at increasing temp 1 0.02057798183171135\n",
            "Rate constant at increasing temp 2 0.22401556455418253\n"
          ]
        }
      ],
      "source": [
        "# Your code here\n",
        "k_increase1 = A * math.e**(-Ea/(R*temp_increase1))# this\n",
        "k_increase2 = A * math.e**(-Ea/(R*temp_increase2))\n",
        "print(\"Rate constant at increasing temp 1\",k_increase1)\n",
        "print(\"Rate constant at increasing temp 2\",k_increase2)\n",
        "\n",
        "\n"
      ]
    },
    {
      "cell_type": "markdown",
      "metadata": {
        "id": "CeDhWWYwoneX"
      },
      "source": [
        "## Task 3: Calculate the half-life\n",
        "\n",
        "Calculate the half-life and store it in a variable named `half_life`."
      ]
    },
    {
      "cell_type": "code",
      "execution_count": 19,
      "metadata": {
        "colab": {
          "base_uri": "https://localhost:8080/"
        },
        "id": "hdoPKMpYoneY",
        "outputId": "f2100286-6400-4e41-a593-abc7d08c0db4"
      },
      "outputs": [
        {
          "output_type": "stream",
          "name": "stdout",
          "text": [
            "half life = 1147.4723572446592\n"
          ]
        }
      ],
      "source": [
        "# Your code here\n",
        "half_life = math.log(2)/k_initial*2 # multiple because we are given the equation so mulpitle by 2\n",
        "print(\"half life =\",half_life)\n",
        "\n"
      ]
    },
    {
      "cell_type": "markdown",
      "metadata": {
        "id": "67d698ikoneY"
      },
      "source": [
        "## Task 4: Calculate concentration after 30 seconds\n",
        "\n",
        "Calculate the concentration after 30 seconds and store it in a variable named `concentration`."
      ]
    },
    {
      "cell_type": "code",
      "execution_count": 20,
      "metadata": {
        "colab": {
          "base_uri": "https://localhost:8080/"
        },
        "id": "C3KRpVeWoneY",
        "outputId": "3fccdc72-7466-4b50-e1a9-14af0a11dca1"
      },
      "outputs": [
        {
          "output_type": "stream",
          "name": "stdout",
          "text": [
            "concentration = 0.48220254107709637\n"
          ]
        }
      ],
      "source": [
        "# Your code here\n",
        "concentration = initial_concentration*math.e**(-k_initial*time_elapsed)\n",
        "print(\"concentration =\",concentration)"
      ]
    },
    {
      "cell_type": "markdown",
      "metadata": {
        "id": "5CEV_1vxoneY"
      },
      "source": [
        "## Task 5: Calculate time to reach target concentration\n",
        "\n",
        "Calculate the time to reach the target concentration and store it in a variable named `time_to_target`."
      ]
    },
    {
      "cell_type": "code",
      "execution_count": 23,
      "metadata": {
        "colab": {
          "base_uri": "https://localhost:8080/"
        },
        "id": "dng7ScUMoneY",
        "outputId": "e429a16a-c0d8-4b53-f8f9-539ae3eec84f"
      },
      "outputs": [
        {
          "output_type": "stream",
          "name": "stdout",
          "text": [
            "time to reach target concentration = 1332.1741521965012\n"
          ]
        }
      ],
      "source": [
        "# Your code here\n",
        "time_to_target = (-math.log(target_concentration/initial_concentration)/k_initial)\n",
        "print(\"time to reach target concentration =\",time_to_target)"
      ]
    },
    {
      "cell_type": "markdown",
      "metadata": {
        "id": "VUWN0hrsoneZ"
      },
      "source": [
        "## Task 6: Create and print formatted output strings"
      ]
    },
    {
      "cell_type": "code",
      "execution_count": 29,
      "metadata": {
        "colab": {
          "base_uri": "https://localhost:8080/"
        },
        "id": "dgOZn6CEoneZ",
        "outputId": "4cb38cef-a1cf-4d16-bede-08f974c1d372"
      },
      "outputs": [
        {
          "output_type": "stream",
          "name": "stdout",
          "text": [
            "Rate constant at each temperature at initial temp = 0.0012081287643814767 1/s at temp 1 0.02057798183171135 1/s at temp 2 = 0.22401556455418253 1/s\n",
            "Half-life = 1147.4723572446592 seconds\n",
            "Concentration after 30 seconds= 0.48220254107709637 mol/L\n",
            "Time to reach = 1332.1741521965012 seconds\n"
          ]
        }
      ],
      "source": [
        "# Your code here\n",
        "print(\"Rate constant at each temperature at initial temp =\",k_initial,\"1/s\", \"at temp 1\",k_increase1,\n",
        "      \"1/s\",\"at temp 2 =\", k_increase2,\"1/s\" )\n",
        "print(\"Half-life =\", half_life, \"seconds\")\n",
        "print(\"Concentration after 30 seconds=\",concentration,\"mol/L\")\n",
        "print(\"Time to reach =\", time_to_target,\"seconds\")\n"
      ]
    },
    {
      "cell_type": "markdown",
      "source": [],
      "metadata": {
        "id": "TnLWJjeI30Z9"
      }
    }
  ],
  "metadata": {
    "kernelspec": {
      "display_name": "Python 3",
      "language": "python",
      "name": "python3"
    },
    "language_info": {
      "codemirror_mode": {
        "name": "ipython",
        "version": 3
      },
      "file_extension": ".py",
      "mimetype": "text/x-python",
      "name": "python",
      "nbconvert_exporter": "python",
      "pygments_lexer": "ipython3",
      "version": "3.8.5"
    },
    "colab": {
      "provenance": []
    }
  },
  "nbformat": 4,
  "nbformat_minor": 0
}