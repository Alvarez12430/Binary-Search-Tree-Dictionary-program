{
  "cells": [
    {
      "cell_type": "markdown",
      "metadata": {
        "id": "E6JIXNi-nUnI"
      },
      "source": [
        "[![Open In Colab](https://colab.research.google.com/assets/colab-badge.svg)](https://colab.research.google.com/github/WCC-Engineering/pa1-introduction-to-python-numpy-and-data-visualization-Alvarez12430/blob/main/problem1_chemical_kinetics.ipynb)"
      ]
    },
    {
      "cell_type": "markdown",
      "metadata": {
        "id": "whR_WloTnUnL"
      },
      "source": [
        "**Important Note:** If you encounter a \"File not found\" error when using the Colab button, your instructor can fix this by running the \"Fix Colab Links in Student Repository\" workflow."
      ]
    },
    {
      "cell_type": "markdown",
      "metadata": {
        "id": "vnP3bxhmnUnL"
      },
      "source": [
        "# Problem 1: Chemical Reaction Kinetics Analysis\n",
        "\n",
        "## Description\n",
        "You are a chemical engineer analyzing reaction kinetics for a chemical process. Use Python's mathematical capabilities to calculate reaction rates, activation energies, and concentration changes.\n",
        "\n",
        "## Tasks\n",
        "1. Calculate the reaction rate constant (k) using the Arrhenius equation: k = A * e^(-Ea/(R*T)), where:\n",
        "   - A = 2.8 × 10^11 s^-1 (frequency factor)\n",
        "   - Ea = 88000 J/mol (activation energy)\n",
        "   - R = 8.314 J/(mol·K) (gas constant)\n",
        "   - T = 320 K (temperature)\n",
        "2. Calculate how the rate constant changes if temperature increases to 350 K and 380 K\n",
        "3. Calculate the half-life of a first-order reaction: t1/2 = ln(2)/k\n",
        "4. For an initial reactant concentration of [A]0 = 0.5 mol/L, calculate the concentration after 30 seconds using: [A]t = [A]0 * e^(-k*t)\n",
        "5. Calculate the time needed for the concentration to reach 0.1 mol/L using: t = -ln([A]t/[A]0)/k\n",
        "6. Create string variables with appropriate units for each result and print formatted output statements for:\n",
        "   - Rate constant at each temperature (as \"k = X s^-1 at Y K\")\n",
        "   - Half-life (as \"Half-life = X seconds\")\n",
        "   - Concentration after 30 seconds (as \"Concentration after 30s = X mol/L\")\n",
        "   - Time to reach 0.1 mol/L (as \"Time to reach 0.1 mol/L = X seconds\")"
      ]
    },
    {
      "cell_type": "code",
      "execution_count": 2,
      "metadata": {
        "id": "GSdlclc5nUnM"
      },
      "outputs": [],
      "source": [
        "import math\n",
        "\n",
        "# Given constants\n",
        "A = 2.8e11  # frequency factor (s^-1)\n",
        "Ea = 88000  # activation energy (J/mol)\n",
        "R = 8.314   # gas constant (J/(mol·K))\n",
        "initial_temp = 320  # initial temperature (K)\n",
        "temp_increase1 = 350  # first increased temperature (K)\n",
        "temp_increase2 = 380  # second increased temperature (K)\n",
        "initial_concentration = 0.5  # initial concentration (mol/L)\n",
        "time_elapsed = 30  # time elapsed (s)\n",
        "target_concentration = 0.1  # target concentration (mol/L)"
      ]
    },
    {
      "cell_type": "markdown",
      "metadata": {
        "id": "5hzAYMRQnUnN"
      },
      "source": [
        "## Task 1: Calculate the reaction rate constant at the initial temperature\n",
        "\n",
        "Calculate the initial rate constant and store it in a variable named `k_initial`."
      ]
    },
    {
      "cell_type": "code",
      "execution_count": 4,
      "metadata": {
        "colab": {
          "base_uri": "https://localhost:8080/"
        },
        "id": "o8OrO7OdnUnN",
        "outputId": "071017a8-f0cb-41bc-bdb5-208aa4615407"
      },
      "outputs": [
        {
          "output_type": "stream",
          "name": "stdout",
          "text": [
            "the rate constant is 0.0012081287643814767\n"
          ]
        }
      ],
      "source": [
        "# Your code here\n",
        "#used the given equation up above to find the rate constant\n",
        "k_initial =  A*math.e**(-Ea/(R*initial_temp))\n",
        "#printed it out to make sure the numbers are correct with a calculator\n",
        "print(\"the rate constant is\",k_initial)"
      ]
    },
    {
      "cell_type": "markdown",
      "metadata": {
        "id": "DbamYfhPnUnN"
      },
      "source": [
        "## Task 2: Calculate rate constants at increased temperatures\n",
        "\n",
        "Calculate the rate constants at the increased temperatures and store them in variables named `k_increase1` and `k_increase2`."
      ]
    },
    {
      "cell_type": "code",
      "execution_count": 25,
      "metadata": {
        "colab": {
          "base_uri": "https://localhost:8080/"
        },
        "id": "OMRO7hiqnUnN",
        "outputId": "aed77159-1b67-406e-f0ff-5a1ac30e5520"
      },
      "outputs": [
        {
          "output_type": "stream",
          "name": "stdout",
          "text": [
            "the rate constant at 350K is 0.02057798183171135 s**1\n",
            "the rate constant at 380K is 0.22401556455418253\n"
          ]
        }
      ],
      "source": [
        "# Your code here\n",
        "#used the same code above but with the different temps\n",
        "k_increase1 =  A*math.e**(-Ea/(R*temp_increase1))\n",
        "k_increase2 =  A*math.e**(-Ea/(R*temp_increase2))\n",
        "#printed it out to make sure the numbers are correct with a calculator\n",
        "print(\"the rate constant at 350K is\",k_increase1)\n",
        "print(\"the rate constant at 380K is\",k_increase2)\n"
      ]
    },
    {
      "cell_type": "markdown",
      "metadata": {
        "id": "KjQzU4NpnUnN"
      },
      "source": [
        "## Task 3: Calculate the half-life\n",
        "\n",
        "Calculate the half-life and store it in a variable named `half_life`."
      ]
    },
    {
      "cell_type": "code",
      "execution_count": 9,
      "metadata": {
        "colab": {
          "base_uri": "https://localhost:8080/"
        },
        "id": "mJYMzk_1nUnO",
        "outputId": "f41a508c-3f01-43e1-a5ba-7fd059ac096e"
      },
      "outputs": [
        {
          "output_type": "stream",
          "name": "stdout",
          "text": [
            "the half life is 573.7361786223296\n"
          ]
        }
      ],
      "source": [
        "# Your code here\n",
        "#the equation we are given up above except changed to\n",
        "#fit my variables names\n",
        "half_life = (math.log(2)/k_initial)\n",
        "#printed to make sure its correct\n",
        "print(\"the half life is\",half_life)"
      ]
    },
    {
      "cell_type": "markdown",
      "metadata": {
        "id": "I2APXMFLnUnO"
      },
      "source": [
        "## Task 4: Calculate concentration after 30 seconds\n",
        "\n",
        "Calculate the concentration after 30 seconds and store it in a variable named `concentration`."
      ]
    },
    {
      "cell_type": "code",
      "execution_count": 11,
      "metadata": {
        "colab": {
          "base_uri": "https://localhost:8080/"
        },
        "id": "aGONsWRsnUnO",
        "outputId": "db0c1517-0316-4d2c-f3ee-026cffc532a7"
      },
      "outputs": [
        {
          "output_type": "stream",
          "name": "stdout",
          "text": [
            "0.48220254107709637\n"
          ]
        }
      ],
      "source": [
        "# Your code here\n",
        "concentration = initial_concentration*math.e**(-k_initial*time_elapsed)\n",
        "print(\"the concentration\",concentration)\n",
        "\n"
      ]
    },
    {
      "cell_type": "markdown",
      "metadata": {
        "id": "2KeIafV1nUnO"
      },
      "source": [
        "## Task 5: Calculate time to reach target concentration\n",
        "\n",
        "Calculate the time to reach the target concentration and store it in a variable named `time_to_target`."
      ]
    },
    {
      "cell_type": "code",
      "execution_count": 23,
      "metadata": {
        "colab": {
          "base_uri": "https://localhost:8080/"
        },
        "id": "bAhBveJonUnO",
        "outputId": "4a3d79d1-8370-4bce-89ca-790dbc1e5024"
      },
      "outputs": [
        {
          "output_type": "stream",
          "name": "stdout",
          "text": [
            "the time to reach the target concentration is 1332.1741521965012\n"
          ]
        }
      ],
      "source": [
        "# Your code here\n",
        "# t = -ln([A]t/[A]0)/k\n",
        "time_to_target = -math.log(target_concentration/initial_concentration)/k_initial\n",
        "print(\"the time to reach the target concentration is\",time_to_target)\n"
      ]
    },
    {
      "cell_type": "markdown",
      "metadata": {
        "id": "vO64jn5InUnO"
      },
      "source": [
        "## Task 6: Create and print formatted output strings"
      ]
    },
    {
      "cell_type": "code",
      "execution_count": 26,
      "metadata": {
        "colab": {
          "base_uri": "https://localhost:8080/"
        },
        "id": "LUZ24VrunUnO",
        "outputId": "ec170ece-35f4-4842-812b-c123dc752741"
      },
      "outputs": [
        {
          "output_type": "stream",
          "name": "stdout",
          "text": [
            "the rate constant at 320K is 0.0012081287643814767 s^-1\n",
            "the rate constant at 350K is 0.02057798183171135 s^-1\n",
            "the rate constant at 380K is 0.22401556455418253 s^-1\n",
            "the half life is 573.7361786223296 seconds\n",
            "Concentration after 30 seconds 0.48220254107709637 mol/L\n",
            "Time to reach 0.1 mol/L = 1332.1741521965012 seconds\n"
          ]
        }
      ],
      "source": [
        "# Your code here\n",
        "#Create string variables with appropriate units for each result and print formatted output statements for:\n",
        "print(\"the rate constant at 320K is\",k_initial,\"s^-1\")\n",
        "print(\"the rate constant at 350K is\",k_increase1,\"s^-1\")\n",
        "print(\"the rate constant at 380K is\",k_increase2,\"s^-1\")\n",
        "print(\"the half life is\",half_life,\"seconds\")\n",
        "print(\"Concentration after 30 seconds\",concentration,\"mol/L\")\n",
        "print(\"Time to reach 0.1 mol/L =\",time_to_target,\"seconds\")\n",
        "\n"
      ]
    }
  ],
  "metadata": {
    "kernelspec": {
      "display_name": "Python 3",
      "language": "python",
      "name": "python3"
    },
    "language_info": {
      "codemirror_mode": {
        "name": "ipython",
        "version": 3
      },
      "file_extension": ".py",
      "mimetype": "text/x-python",
      "name": "python",
      "nbconvert_exporter": "python",
      "pygments_lexer": "ipython3",
      "version": "3.8.5"
    },
    "colab": {
      "provenance": []
    }
  },
  "nbformat": 4,
  "nbformat_minor": 0
}