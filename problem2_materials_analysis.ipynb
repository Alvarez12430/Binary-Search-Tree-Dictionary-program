{
  "cells": [
    {
      "cell_type": "markdown",
      "metadata": {
        "id": "hGwp2Ghgawob"
      },
      "source": [
        "[![Open In Colab](https://colab.research.google.com/assets/colab-badge.svg)](https://colab.research.google.com/github/WCC-Engineering/pa1-introduction-to-python-numpy-and-data-visualization-Alvarez12430/blob/main/problem2_materials_analysis.ipynb)"
      ]
    },
    {
      "cell_type": "markdown",
      "metadata": {
        "id": "irmiUv6Mawoe"
      },
      "source": [
        "**Important Note:** If you encounter a \"File not found\" error when using the Colab button, your instructor can fix this by running the \"Fix Colab Links in Student Repository\" workflow."
      ]
    },
    {
      "cell_type": "markdown",
      "metadata": {
        "id": "5mq0ShRYawof"
      },
      "source": [
        "# Problem 2: Material Properties Analysis with NumPy\n",
        "\n",
        "## Description\n",
        "You are analyzing material properties for a civil engineering project. Use NumPy to process and analyze arrays of material data.\n",
        "\n",
        "## Tasks\n",
        "1. Create NumPy arrays for different construction materials:\n",
        "   - Name array (strings): [\"Concrete\", \"Steel\", \"Aluminum\", \"Glass\", \"Wood\", \"Copper\", \"Titanium\"]\n",
        "   - Density array (kg/m³, float): [2400, 7850, 2700, 2500, 550, 8960, 4500]\n",
        "   - Category array (integers, representing material types: 1=metal, 2=ceramic, 3=organic): [2, 1, 1, 2, 3, 1, 1]\n",
        "2. Convert the densities from kg/m³ to lb/ft³ (conversion factor: 1 kg/m³ = 0.06242 lb/ft³)\n",
        "3. Calculate the mass of each material needed for a beam with dimensions 3m × 0.2m × 0.2m\n",
        "4. Identify and print:\n",
        "   - The lightest and heaviest materials by name and density\n",
        "   - Average density of all materials\n",
        "   - All metal materials (where category = 1) with their properties\n",
        "   - Materials with density greater than 2600 kg/m³\n",
        "5. Create a new array with the materials sorted by density (lowest to highest), maintaining the relationship between material names and their properties"
      ]
    },
    {
      "cell_type": "code",
      "execution_count": null,
      "metadata": {
        "id": "sg7l1bWXawog"
      },
      "outputs": [],
      "source": [
        "import numpy as np\n",
        "\n"
      ]
    },
    {
      "cell_type": "markdown",
      "metadata": {
        "id": "q96wTaDSawoh"
      },
      "source": [
        "## Task 1: Create NumPy arrays for material properties\n",
        "\n",
        "Create the following NumPy arrays:\n",
        "- `names_array` for material names\n",
        "- `densities_array` for densities in kg/m³\n",
        "- `categories_array` for material categories"
      ]
    },
    {
      "cell_type": "code",
      "execution_count": null,
      "metadata": {
        "id": "MF5aUZm3awoh"
      },
      "outputs": [],
      "source": [
        "# Your code here\n",
        "names_array =\n",
        "densities_array =\n",
        "categories_array =\n",
        "categories_array =\n"
      ]
    },
    {
      "cell_type": "markdown",
      "metadata": {
        "id": "Qfdl0Vzzawoh"
      },
      "source": [
        "## Task 2: Convert densities to lb/ft³\n",
        "\n",
        "Create a new array called `densities_lbft3` containing the converted densities."
      ]
    },
    {
      "cell_type": "code",
      "execution_count": null,
      "metadata": {
        "id": "gukxK8Etawoh"
      },
      "outputs": [],
      "source": [
        "# Your code here\n"
      ]
    },
    {
      "cell_type": "markdown",
      "metadata": {
        "id": "PYbeUCw_awoi"
      },
      "source": [
        "## Task 3: Calculate mass of material needed for the beam\n",
        "\n",
        "Create an array called `mass_kg` containing the mass of each material needed for the beam."
      ]
    },
    {
      "cell_type": "code",
      "execution_count": null,
      "metadata": {
        "id": "8OaDwefAawoi"
      },
      "outputs": [],
      "source": [
        "# Your code here\n"
      ]
    },
    {
      "cell_type": "markdown",
      "metadata": {
        "id": "RJwzwGTIawoi"
      },
      "source": [
        "## Task 4: Analyze the material properties"
      ]
    },
    {
      "cell_type": "code",
      "execution_count": null,
      "metadata": {
        "id": "881iQT0pawoi"
      },
      "outputs": [],
      "source": [
        "# a. Find lightest and heaviest materials\n",
        "# Create variables called `lightest_index` and `heaviest_index` to store the indexes\n",
        "# Your code here\n"
      ]
    },
    {
      "cell_type": "code",
      "execution_count": null,
      "metadata": {
        "id": "YDapFi3cawoj"
      },
      "outputs": [],
      "source": [
        "# b. Calculate average density\n",
        "# Create a variable called `average_density` to store the average density in kg/m³\n",
        "# Your code here\n"
      ]
    },
    {
      "cell_type": "code",
      "execution_count": null,
      "metadata": {
        "id": "16FJsClWawoj"
      },
      "outputs": [],
      "source": [
        "# c. Identify all metal materials (category = 1)\n",
        "# Create a boolean mask called `metal_mask` where True indicates a metal material\n",
        "# Your code here\n"
      ]
    },
    {
      "cell_type": "code",
      "execution_count": null,
      "metadata": {
        "id": "PTR4KmUYawoj"
      },
      "outputs": [],
      "source": [
        "# d. Find materials with density > 2600 kg/m³\n",
        "# Create a boolean mask called `high_density_mask` where True indicates density > 2600 kg/m³\n",
        "# Your code here\n"
      ]
    },
    {
      "cell_type": "markdown",
      "metadata": {
        "id": "k5WYcEgNawoj"
      },
      "source": [
        "## Task 5: Sort materials by density (lowest to highest)\n",
        "\n",
        "Create a sorted indices array called `sorted_indices` to represent materials in order of ascending density."
      ]
    },
    {
      "cell_type": "code",
      "execution_count": null,
      "metadata": {
        "id": "vb-MPoXyawoj"
      },
      "outputs": [],
      "source": [
        "# Your code here\n"
      ]
    }
  ],
  "metadata": {
    "kernelspec": {
      "display_name": "Python 3",
      "language": "python",
      "name": "python3"
    },
    "language_info": {
      "codemirror_mode": {
        "name": "ipython",
        "version": 3
      },
      "file_extension": ".py",
      "mimetype": "text/x-python",
      "name": "python",
      "nbconvert_exporter": "python",
      "pygments_lexer": "ipython3",
      "version": "3.8.5"
    },
    "colab": {
      "provenance": []
    }
  },
  "nbformat": 4,
  "nbformat_minor": 0
}