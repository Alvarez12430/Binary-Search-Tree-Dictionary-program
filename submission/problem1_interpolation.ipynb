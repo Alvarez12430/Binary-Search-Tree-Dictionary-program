{
  "cells": [
    {
      "cell_type": "markdown",
      "metadata": {
        "id": "mE-eLDTLDDm6"
      },
      "source": [
        "# Week 6 Assignment: Interpolation Methods\n",
        "\n",
        "[![Open In Colab](https://colab.research.google.com/assets/colab-badge.svg)](https://colab.research.google.com/github/WCC-Engineering/pa6-interpolation-Alvarez12430/blob/main/problem1_interpolation.ipynb)\n",
        "\n",
        "## Problem: Error Function Interpolation\n",
        "\n",
        "The error function is a mathematical function that frequently arises in probability and statistics. It also appears in the solution to some partial differential equations, particularly those arising in heat and mass transfer applications. The error function is defined as:\n",
        "\n",
        "$$\\text{erf}(x) = \\frac{2}{\\sqrt{\\pi}}\\int_{0}^{x}e^{-t^2}dt$$\n",
        "\n",
        "This function cannot be solved analytically and requires numerical integration. In Python, it is available in the `scipy.special` module as `erf`, which we'll use to compute \"true\" values for comparison.\n",
        "\n",
        "For this problem, you are given the following tabulated values of the error function:"
      ]
    },
    {
      "cell_type": "markdown",
      "metadata": {
        "id": "Siy4-CPXDDm-"
      },
      "source": [
        "| x | erf(x) |\n",
        "|---|--------|\n",
        "| 0.0 | 0.0 |\n",
        "| 0.4 | 0.42839 |\n",
        "| 0.8 | 0.7421 |\n",
        "| 1.2 | 0.91031 |\n",
        "| 1.6 | 0.97635 |\n",
        "| 2.0 | 0.99532 |"
      ]
    },
    {
      "cell_type": "markdown",
      "metadata": {
        "id": "kIi8E77aDDm-"
      },
      "source": [
        "## Task\n",
        "\n",
        "Your task is to implement two different interpolation methods to estimate values of the error function based on the provided data points. You will then compare the accuracy of these methods against the actual error function values."
      ]
    },
    {
      "cell_type": "markdown",
      "metadata": {
        "id": "qpr2QpEvDDm-"
      },
      "source": [
        "## Imports"
      ]
    },
    {
      "cell_type": "code",
      "execution_count": 21,
      "metadata": {
        "id": "1oL1TAUSDDm_"
      },
      "outputs": [],
      "source": [
        "import numpy as np\n",
        "from scipy import interpolate\n",
        "from scipy.special import erf"
      ]
    },
    {
      "cell_type": "markdown",
      "metadata": {
        "id": "WHH7opngDDnA"
      },
      "source": [
        "## Data"
      ]
    },
    {
      "cell_type": "code",
      "execution_count": 22,
      "metadata": {
        "id": "OTm4-igCDDnA"
      },
      "outputs": [],
      "source": [
        "# Tabulated data points\n",
        "x_data = np.array([0.0, 0.4, 0.8, 1.2, 1.6, 2.0])\n",
        "y_data = np.array([0.0, 0.42839, 0.7421, 0.91031, 0.97635, 0.99532])"
      ]
    },
    {
      "cell_type": "markdown",
      "metadata": {
        "id": "o_JCJAhvDDnA"
      },
      "source": [
        "## Part 1: Lagrange Polynomial Interpolation\n",
        "\n",
        "In this part, you will implement a function to calculate the interpolated value of erf(x) using a 2nd order Lagrange interpolating polynomial. The function should also compute and return the true error of the interpolation.\n",
        "\n",
        "Note: Make sure your function always uses the three data points closest to the input value for the Lagrange interpolation. You will need to formulate the polynomial by hand and enter it as a mathematical expression in your function."
      ]
    },
    {
      "cell_type": "code",
      "execution_count": 1,
      "metadata": {
        "id": "Quh5T4dSDDnA"
      },
      "outputs": [],
      "source": [
        "def lagrange_interpolation(x):\n",
        "    \"\"\"\n",
        "    Compute the interpolated value of erf(x) using a 2nd order Lagrange interpolating polynomial\n",
        "    and calculate the true error.\n",
        "\n",
        "    Parameters:\n",
        "    -----------\n",
        "    x : float\n",
        "        The input value at which to evaluate the error function\n",
        "\n",
        "    Returns:\n",
        "    --------\n",
        "    tuple\n",
        "        (interpolated_value, true_error)\n",
        "        - interpolated_value: The error function value estimated using Lagrange polynomial\n",
        "        - true_error: The absolute difference between the interpolated value and the true value\n",
        "    \"\"\"\n",
        "    # Get the true value using SciPy's erf function for error calculation\n",
        "    true_value = erf(x)\n",
        "\n",
        "    # Find the three closest data points to x\n",
        "    # Your code here\n",
        "    distances = np.abs(x_data - x)\n",
        "    closest_indices = np.argsort(distances)[:3]\n",
        "    closest_x = x_data[closest_indices]\n",
        "    closest_y = y_data[closest_indices]\n",
        "\n",
        "    # Implement 2nd order Lagrange interpolation formula\n",
        "    # Your code here\n",
        "    #AI assisted with trouble shooting\n",
        "    term0 = ((x - closest_x[1]) * (x - closest_x[2])) / ((closest_x[0] - closest_x[1]) * (closest_x[0] - closest_x[2]))\n",
        "    term1 = ((x - closest_x[0]) * (x - closest_x[2])) / ((closest_x[1] - closest_x[0]) * (closest_x[1] - closest_x[2]))\n",
        "    term2 =  ((x - closest_x[0]) * (x - closest_x[1])) / ((closest_x[2] - closest_x[0]) * (closest_x[2] - closest_x[1]))\n",
        "\n",
        "    interpolated_value = closest_y[0] *term0 + closest_y[1] * term1 + closest_y[2] *term2\n",
        "\n",
        "\n",
        "\n",
        "    # Calculate true error (absolute difference)\n",
        "    # Your code here\n",
        "    true_error = np.abs(interpolated_value - true_value)\n",
        "\n",
        "    return interpolated_value, true_error"
      ]
    },
    {
      "cell_type": "markdown",
      "metadata": {
        "id": "TNENBInUDDnB"
      },
      "source": [
        "## Part 2: Cubic Spline Interpolation\n",
        "\n",
        "In this part, you will implement a function to calculate the interpolated value of erf(x) using a cubic spline with \"not-a-knot\" end conditions. The function should also compute and return the true error of the interpolation.\n",
        "\n",
        "Note: Use SciPy's interpolate module to create the cubic spline with the appropriate end conditions."
      ]
    },
    {
      "cell_type": "code",
      "execution_count": 28,
      "metadata": {
        "id": "snSMrvC0DDnB"
      },
      "outputs": [],
      "source": [
        "def cubic_spline_interpolation(x):\n",
        "    \"\"\"\n",
        "    Compute the interpolated value of erf(x) using a cubic spline with not-a-knot end conditions\n",
        "    and calculate the true error.\n",
        "\n",
        "    Parameters:\n",
        "    -----------\n",
        "    x : float\n",
        "        The input value at which to evaluate the error function\n",
        "\n",
        "    Returns:\n",
        "    --------\n",
        "    tuple\n",
        "        (interpolated_value, true_error)\n",
        "        - interpolated_value: The error function value estimated using cubic spline\n",
        "        - true_error: The absolute difference between the interpolated value and the true value\n",
        "    \"\"\"\n",
        "    # Get the true value using SciPy's erf function for error calculation\n",
        "    true_value = erf(x)\n",
        "\n",
        "    # Create a cubic spline interpolation with not-a-knot end conditions\n",
        "    # Your code here\n",
        "    cubic_spline = interpolate.CubicSpline(x_data, y_data, bc_type=\"not-a-knot\")\n",
        "\n",
        "    # Evaluate the spline at the given x value\n",
        "    # Your code here\n",
        "    interpolated_value = cubic_spline(x)\n",
        "\n",
        "    # Calculate true error (absolute difference)\n",
        "    # Your code here\n",
        "    true_error = np.abs(interpolated_value - true_value)\n",
        "\n",
        "    return interpolated_value, true_error"
      ]
    },
    {
      "cell_type": "markdown",
      "metadata": {
        "id": "ru-AjQZWDDnB"
      },
      "source": [
        "## Test Cases\n",
        "\n",
        "Test your functions with various input values to verify they work correctly."
      ]
    },
    {
      "cell_type": "code",
      "execution_count": 29,
      "metadata": {
        "colab": {
          "base_uri": "https://localhost:8080/"
        },
        "id": "OKHSSSI3DDnB",
        "outputId": "94951da2-f3a8-480c-da50-9a3c5fbc7895"
      },
      "outputs": [
        {
          "output_type": "stream",
          "name": "stdout",
          "text": [
            "Input x: 0.6\n",
            "True value (erf(0.6)): 0.603856\n",
            "\n",
            "Lagrange Polynomial Interpolation:\n",
            "Interpolated value: 0.599580\n",
            "True error: 0.004276\n",
            "\n",
            "Cubic Spline Interpolation:\n",
            "Interpolated value: 0.602693\n",
            "True error: 0.001163\n"
          ]
        }
      ],
      "source": [
        "# Example test case\n",
        "x_test = 0.6\n",
        "\n",
        "lagrange_result, lagrange_error = lagrange_interpolation(x_test)\n",
        "spline_result, spline_error = cubic_spline_interpolation(x_test)\n",
        "#Had AI help with the printing\n",
        "print(f\"Input x: {x_test}\")\n",
        "print(f\"True value (erf({x_test})): {erf(x_test):.6f}\")\n",
        "print(\"\\nLagrange Polynomial Interpolation:\")\n",
        "print(f\"Interpolated value: {lagrange_result:.6f}\")\n",
        "print(f\"True error: {lagrange_error:.6f}\")\n",
        "print(\"\\nCubic Spline Interpolation:\")\n",
        "print(f\"Interpolated value: {spline_result:.6f}\")\n",
        "print(f\"True error: {spline_error:.6f}\")"
      ]
    }
  ],
  "metadata": {
    "kernelspec": {
      "display_name": "Python 3",
      "language": "python",
      "name": "python3"
    },
    "language_info": {
      "codemirror_mode": {
        "name": "ipython",
        "version": 3
      },
      "file_extension": ".py",
      "mimetype": "text/x-python",
      "name": "python",
      "nbconvert_exporter": "python",
      "pygments_lexer": "ipython3",
      "version": "3.8.5"
    },
    "colab": {
      "provenance": []
    }
  },
  "nbformat": 4,
  "nbformat_minor": 0
}